{
 "cells": [
  {
   "cell_type": "markdown",
   "metadata": {},
   "source": [
    "# Portfolio Project: Online Retail Exploratory Data Analysis with Python"
   ]
  },
  {
   "cell_type": "markdown",
   "metadata": {},
   "source": [
    "## Overview\n",
    "\n",
    "In this project, you will step into the shoes of an entry-level data analyst at an online retail company, helping interpret real-world data to help make a key business decision."
   ]
  },
  {
   "cell_type": "markdown",
   "metadata": {},
   "source": [
    "## Case Study\n",
    "In this project, you will be working with transactional data from an online retail store. The dataset contains information about customer purchases, including product details, quantities, prices, and timestamps. Your task is to explore and analyze this dataset to gain insights into the store's sales trends, customer behavior, and popular products. \n",
    "\n",
    "By conducting exploratory data analysis, you will identify patterns, outliers, and correlations in the data, allowing you to make data-driven decisions and recommendations to optimize the store's operations and improve customer satisfaction. Through visualizations and statistical analysis, you will uncover key trends, such as the busiest sales months, best-selling products, and the store's most valuable customers. Ultimately, this project aims to provide actionable insights that can drive strategic business decisions and enhance the store's overall performance in the competitive online retail market."
   ]
  },
  {
   "cell_type": "markdown",
   "metadata": {},
   "source": [
    "## Project Objectives\n",
    "1. Describe data to answer key questions to uncover insights\n",
    "2. Gain valuable insights that will help improve online retail performance\n",
    "3. Provide analytic insights and data-driven recommendations"
   ]
  },
  {
   "cell_type": "markdown",
   "metadata": {},
   "source": [
    "## Dataset\n",
    "\n",
    "The dataset you will be working with is the \"Online Retail\" dataset. It contains transactional data of an online retail store from 2010 to 2011. The dataset is available as a .xlsx file named `Online Retail.xlsx`. This data file is already included in the Coursera Jupyter Notebook environment, however if you are working off-platform it can also be downloaded [here](https://archive.ics.uci.edu/ml/machine-learning-databases/00352/Online%20Retail.xlsx).\n",
    "\n",
    "The dataset contains the following columns:\n",
    "\n",
    "- InvoiceNo: Invoice number of the transaction\n",
    "- StockCode: Unique code of the product\n",
    "- Description: Description of the product\n",
    "- Quantity: Quantity of the product in the transaction\n",
    "- InvoiceDate: Date and time of the transaction\n",
    "- UnitPrice: Unit price of the product\n",
    "- CustomerID: Unique identifier of the customer\n",
    "- Country: Country where the transaction occurred"
   ]
  },
  {
   "cell_type": "markdown",
   "metadata": {},
   "source": [
    "## Tasks\n",
    "\n",
    "You may explore this dataset in any way you would like - however if you'd like some help getting started, here are a few ideas:\n",
    "\n",
    "1. Load the dataset into a Pandas DataFrame and display the first few rows to get an overview of the data.\n",
    "2. Perform data cleaning by handling missing values, if any, and removing any redundant or unnecessary columns.\n",
    "3. Explore the basic statistics of the dataset, including measures of central tendency and dispersion.\n",
    "4. Perform data visualization to gain insights into the dataset. Generate appropriate plots, such as histograms, scatter plots, or bar plots, to visualize different aspects of the data.\n",
    "5. Analyze the sales trends over time. Identify the busiest months and days of the week in terms of sales.\n",
    "6. Explore the top-selling products and countries based on the quantity sold.\n",
    "7. Identify any outliers or anomalies in the dataset and discuss their potential impact on the analysis.\n",
    "8. Draw conclusions and summarize your findings from the exploratory data analysis."
   ]
  },
  {
   "cell_type": "code",
   "execution_count": 1,
   "metadata": {},
   "outputs": [],
   "source": [
    "# pip install --upgrade numpy pandas # MAj both\n"
   ]
  },
  {
   "cell_type": "markdown",
   "metadata": {},
   "source": [
    "## 1. Load the dataset into a Pandas DataFrame and display the first few rows to get an overview of the data."
   ]
  },
  {
   "cell_type": "code",
   "execution_count": 2,
   "metadata": {},
   "outputs": [
    {
     "data": {
      "text/html": [
       "<div>\n",
       "<style scoped>\n",
       "    .dataframe tbody tr th:only-of-type {\n",
       "        vertical-align: middle;\n",
       "    }\n",
       "\n",
       "    .dataframe tbody tr th {\n",
       "        vertical-align: top;\n",
       "    }\n",
       "\n",
       "    .dataframe thead th {\n",
       "        text-align: right;\n",
       "    }\n",
       "</style>\n",
       "<table border=\"1\" class=\"dataframe\">\n",
       "  <thead>\n",
       "    <tr style=\"text-align: right;\">\n",
       "      <th></th>\n",
       "      <th>InvoiceNo</th>\n",
       "      <th>StockCode</th>\n",
       "      <th>Description</th>\n",
       "      <th>Quantity</th>\n",
       "      <th>InvoiceDate</th>\n",
       "      <th>UnitPrice</th>\n",
       "      <th>CustomerID</th>\n",
       "      <th>Country</th>\n",
       "    </tr>\n",
       "  </thead>\n",
       "  <tbody>\n",
       "    <tr>\n",
       "      <th>0</th>\n",
       "      <td>536365</td>\n",
       "      <td>85123A</td>\n",
       "      <td>WHITE HANGING HEART T-LIGHT HOLDER</td>\n",
       "      <td>6</td>\n",
       "      <td>2010-12-01 08:26:00</td>\n",
       "      <td>2.55</td>\n",
       "      <td>17850.0</td>\n",
       "      <td>United Kingdom</td>\n",
       "    </tr>\n",
       "    <tr>\n",
       "      <th>1</th>\n",
       "      <td>536365</td>\n",
       "      <td>71053</td>\n",
       "      <td>WHITE METAL LANTERN</td>\n",
       "      <td>6</td>\n",
       "      <td>2010-12-01 08:26:00</td>\n",
       "      <td>3.39</td>\n",
       "      <td>17850.0</td>\n",
       "      <td>United Kingdom</td>\n",
       "    </tr>\n",
       "    <tr>\n",
       "      <th>2</th>\n",
       "      <td>536365</td>\n",
       "      <td>84406B</td>\n",
       "      <td>CREAM CUPID HEARTS COAT HANGER</td>\n",
       "      <td>8</td>\n",
       "      <td>2010-12-01 08:26:00</td>\n",
       "      <td>2.75</td>\n",
       "      <td>17850.0</td>\n",
       "      <td>United Kingdom</td>\n",
       "    </tr>\n",
       "    <tr>\n",
       "      <th>3</th>\n",
       "      <td>536365</td>\n",
       "      <td>84029G</td>\n",
       "      <td>KNITTED UNION FLAG HOT WATER BOTTLE</td>\n",
       "      <td>6</td>\n",
       "      <td>2010-12-01 08:26:00</td>\n",
       "      <td>3.39</td>\n",
       "      <td>17850.0</td>\n",
       "      <td>United Kingdom</td>\n",
       "    </tr>\n",
       "    <tr>\n",
       "      <th>4</th>\n",
       "      <td>536365</td>\n",
       "      <td>84029E</td>\n",
       "      <td>RED WOOLLY HOTTIE WHITE HEART.</td>\n",
       "      <td>6</td>\n",
       "      <td>2010-12-01 08:26:00</td>\n",
       "      <td>3.39</td>\n",
       "      <td>17850.0</td>\n",
       "      <td>United Kingdom</td>\n",
       "    </tr>\n",
       "  </tbody>\n",
       "</table>\n",
       "</div>"
      ],
      "text/plain": [
       "  InvoiceNo StockCode                          Description  Quantity  \\\n",
       "0    536365    85123A   WHITE HANGING HEART T-LIGHT HOLDER         6   \n",
       "1    536365     71053                  WHITE METAL LANTERN         6   \n",
       "2    536365    84406B       CREAM CUPID HEARTS COAT HANGER         8   \n",
       "3    536365    84029G  KNITTED UNION FLAG HOT WATER BOTTLE         6   \n",
       "4    536365    84029E       RED WOOLLY HOTTIE WHITE HEART.         6   \n",
       "\n",
       "          InvoiceDate  UnitPrice  CustomerID         Country  \n",
       "0 2010-12-01 08:26:00       2.55     17850.0  United Kingdom  \n",
       "1 2010-12-01 08:26:00       3.39     17850.0  United Kingdom  \n",
       "2 2010-12-01 08:26:00       2.75     17850.0  United Kingdom  \n",
       "3 2010-12-01 08:26:00       3.39     17850.0  United Kingdom  \n",
       "4 2010-12-01 08:26:00       3.39     17850.0  United Kingdom  "
      ]
     },
     "execution_count": 2,
     "metadata": {},
     "output_type": "execute_result"
    }
   ],
   "source": [
    "import pandas as pd\n",
    "import seaborn as sns\n",
    "import matplotlib.pyplot as plt\n",
    "\n",
    "data_clean = pd.read_excel(\"Online Retail.xlsx\")\n",
    "data_clean.head()"
   ]
  },
  {
   "cell_type": "markdown",
   "metadata": {},
   "source": [
    "## 2. Perform data cleaning by handling missing values, if any, and removing any redundant or unnecessary columns."
   ]
  },
  {
   "cell_type": "code",
   "execution_count": 3,
   "metadata": {},
   "outputs": [
    {
     "name": "stdout",
     "output_type": "stream",
     "text": [
      "<class 'pandas.core.frame.DataFrame'>\n",
      "RangeIndex: 541909 entries, 0 to 541908\n",
      "Data columns (total 8 columns):\n",
      " #   Column       Non-Null Count   Dtype         \n",
      "---  ------       --------------   -----         \n",
      " 0   InvoiceNo    541909 non-null  object        \n",
      " 1   StockCode    541909 non-null  object        \n",
      " 2   Description  540455 non-null  object        \n",
      " 3   Quantity     541909 non-null  int64         \n",
      " 4   InvoiceDate  541909 non-null  datetime64[ns]\n",
      " 5   UnitPrice    541909 non-null  float64       \n",
      " 6   CustomerID   406829 non-null  float64       \n",
      " 7   Country      541909 non-null  object        \n",
      "dtypes: datetime64[ns](1), float64(2), int64(1), object(4)\n",
      "memory usage: 33.1+ MB\n"
     ]
    }
   ],
   "source": [
    "data_clean.info()"
   ]
  },
  {
   "cell_type": "code",
   "execution_count": 4,
   "metadata": {},
   "outputs": [
    {
     "data": {
      "text/plain": [
       "InvoiceNo           0\n",
       "StockCode           0\n",
       "Description      1454\n",
       "Quantity            0\n",
       "InvoiceDate         0\n",
       "UnitPrice           0\n",
       "CustomerID     135080\n",
       "Country             0\n",
       "dtype: int64"
      ]
     },
     "execution_count": 4,
     "metadata": {},
     "output_type": "execute_result"
    }
   ],
   "source": [
    "data_clean.isna().sum()"
   ]
  },
  {
   "cell_type": "code",
   "execution_count": 5,
   "metadata": {},
   "outputs": [],
   "source": [
    "data_clean = data_clean.dropna(axis=0)\n",
    "data_clean = data_clean.drop_duplicates()"
   ]
  },
  {
   "cell_type": "code",
   "execution_count": 6,
   "metadata": {},
   "outputs": [
    {
     "data": {
      "text/plain": [
       "(401604, 8)"
      ]
     },
     "execution_count": 6,
     "metadata": {},
     "output_type": "execute_result"
    }
   ],
   "source": [
    "data_clean.shape"
   ]
  },
  {
   "cell_type": "code",
   "execution_count": 7,
   "metadata": {},
   "outputs": [
    {
     "data": {
      "text/html": [
       "<div>\n",
       "<style scoped>\n",
       "    .dataframe tbody tr th:only-of-type {\n",
       "        vertical-align: middle;\n",
       "    }\n",
       "\n",
       "    .dataframe tbody tr th {\n",
       "        vertical-align: top;\n",
       "    }\n",
       "\n",
       "    .dataframe thead th {\n",
       "        text-align: right;\n",
       "    }\n",
       "</style>\n",
       "<table border=\"1\" class=\"dataframe\">\n",
       "  <thead>\n",
       "    <tr style=\"text-align: right;\">\n",
       "      <th></th>\n",
       "      <th>Quantity</th>\n",
       "      <th>UnitPrice</th>\n",
       "    </tr>\n",
       "  </thead>\n",
       "  <tbody>\n",
       "    <tr>\n",
       "      <th>count</th>\n",
       "      <td>401604.000000</td>\n",
       "      <td>401604.000000</td>\n",
       "    </tr>\n",
       "    <tr>\n",
       "      <th>mean</th>\n",
       "      <td>12.183273</td>\n",
       "      <td>3.474064</td>\n",
       "    </tr>\n",
       "    <tr>\n",
       "      <th>std</th>\n",
       "      <td>250.283037</td>\n",
       "      <td>69.764035</td>\n",
       "    </tr>\n",
       "    <tr>\n",
       "      <th>min</th>\n",
       "      <td>-80995.000000</td>\n",
       "      <td>0.000000</td>\n",
       "    </tr>\n",
       "    <tr>\n",
       "      <th>25%</th>\n",
       "      <td>2.000000</td>\n",
       "      <td>1.250000</td>\n",
       "    </tr>\n",
       "    <tr>\n",
       "      <th>50%</th>\n",
       "      <td>5.000000</td>\n",
       "      <td>1.950000</td>\n",
       "    </tr>\n",
       "    <tr>\n",
       "      <th>75%</th>\n",
       "      <td>12.000000</td>\n",
       "      <td>3.750000</td>\n",
       "    </tr>\n",
       "    <tr>\n",
       "      <th>max</th>\n",
       "      <td>80995.000000</td>\n",
       "      <td>38970.000000</td>\n",
       "    </tr>\n",
       "  </tbody>\n",
       "</table>\n",
       "</div>"
      ],
      "text/plain": [
       "            Quantity      UnitPrice\n",
       "count  401604.000000  401604.000000\n",
       "mean       12.183273       3.474064\n",
       "std       250.283037      69.764035\n",
       "min    -80995.000000       0.000000\n",
       "25%         2.000000       1.250000\n",
       "50%         5.000000       1.950000\n",
       "75%        12.000000       3.750000\n",
       "max     80995.000000   38970.000000"
      ]
     },
     "execution_count": 7,
     "metadata": {},
     "output_type": "execute_result"
    }
   ],
   "source": [
    "data_clean[[\"Quantity\",\"UnitPrice\"]].describe()"
   ]
  },
  {
   "cell_type": "code",
   "execution_count": 8,
   "metadata": {},
   "outputs": [
    {
     "data": {
      "image/png": "[encoded data removed]",
      "text/plain": [
       "<Figure size 1152x360 with 2 Axes>"
      ]
     },
     "metadata": {
      "needs_background": "light"
     },
     "output_type": "display_data"
    }
   ],
   "source": [
    "plt.figure(figsize=(16,5))\n",
    "plt.subplot(1,2,1)\n",
    "sns.boxplot(x= data_clean.UnitPrice)\n",
    "plt.subplot(1,2,2)\n",
    "sns.boxplot(x=data_clean.Quantity)\n",
    "plt.show()"
   ]
  },
  {
   "cell_type": "markdown",
   "metadata": {},
   "source": [
    "There are clearly outliers. A quantity can't be negative."
   ]
  },
  {
   "cell_type": "code",
   "execution_count": 11,
   "metadata": {},
   "outputs": [],
   "source": [
    "# Filering the data in order to remove all negative value\n",
    "data_clean= data_clean[data_clean.Quantity>0]\n",
    "data_clean= data_clean[data_clean.UnitPrice>0]"
   ]
  },
  {
   "cell_type": "code",
   "execution_count": 12,
   "metadata": {},
   "outputs": [
    {
     "data": {
      "text/plain": [
       "(392692, 8)"
      ]
     },
     "execution_count": 12,
     "metadata": {},
     "output_type": "execute_result"
    }
   ],
   "source": [
    "# The new shape of our dataFrame \n",
    "data_clean.shape"
   ]
  },
  {
   "cell_type": "markdown",
   "metadata": {},
   "source": [
    "## 3. Explore the basic statistics of the dataset, including measures of central tendency and dispersion."
   ]
  },
  {
   "cell_type": "code",
   "execution_count": 14,
   "metadata": {},
   "outputs": [
    {
     "name": "stdout",
     "output_type": "stream",
     "text": [
      "The mean of Quantity, UnitPrice  [13.12, 3.126]\n"
     ]
    }
   ],
   "source": [
    "print(\"The mean of Quantity, UnitPrice \", list(data_clean[[\"Quantity\",\"UnitPrice\"]].mean().round(3)))"
   ]
  },
  {
   "cell_type": "code",
   "execution_count": 15,
   "metadata": {},
   "outputs": [
    {
     "name": "stdout",
     "output_type": "stream",
     "text": [
      "The mode of  Quantity, UnitPrice  =  [[1.   1.25]]\n"
     ]
    }
   ],
   "source": [
    "print(\"The mode of  Quantity, UnitPrice  = \" , data_clean[[\"Quantity\",\"UnitPrice\"]].mode().values)"
   ]
  },
  {
   "cell_type": "code",
   "execution_count": 16,
   "metadata": {},
   "outputs": [
    {
     "name": "stdout",
     "output_type": "stream",
     "text": [
      "Quantity     10.0\n",
      "UnitPrice     2.5\n",
      "dtype: float64\n"
     ]
    }
   ],
   "source": [
    "Q1 = data_clean[[\"Quantity\",\"UnitPrice\"]].quantile(0.25)\n",
    "Q3 = data_clean[[\"Quantity\",\"UnitPrice\"]].quantile(0.75)\n",
    "IQR = Q3-Q1\n",
    "print(IQR)"
   ]
  },
  {
   "cell_type": "code",
   "execution_count": 18,
   "metadata": {},
   "outputs": [
    {
     "data": {
      "text/plain": [
       "Quantity     6.00\n",
       "UnitPrice    1.95\n",
       "Name: 0.5, dtype: float64"
      ]
     },
     "execution_count": 18,
     "metadata": {},
     "output_type": "execute_result"
    }
   ],
   "source": [
    "data_clean[[\"Quantity\",\"UnitPrice\"]].quantile(0.5)"
   ]
  },
  {
   "cell_type": "code",
   "execution_count": 20,
   "metadata": {},
   "outputs": [
    {
     "data": {
      "text/plain": [
       "Quantity     180.492832\n",
       "UnitPrice     22.241836\n",
       "dtype: float64"
      ]
     },
     "execution_count": 20,
     "metadata": {},
     "output_type": "execute_result"
    }
   ],
   "source": [
    "data_clean[[\"Quantity\",\"UnitPrice\"]].std()"
   ]
  },
  {
   "cell_type": "code",
   "execution_count": 21,
   "metadata": {},
   "outputs": [
    {
     "data": {
      "text/plain": [
       "Quantity     32577.662399\n",
       "UnitPrice      494.699251\n",
       "dtype: float64"
      ]
     },
     "execution_count": 21,
     "metadata": {},
     "output_type": "execute_result"
    }
   ],
   "source": [
    "data_clean[[\"Quantity\",\"UnitPrice\"]].var()"
   ]
  },
  {
   "cell_type": "markdown",
   "metadata": {},
   "source": [
    "## 4. Perform data visualization to gain insights into the dataset. Generate appropriate plots, such as histograms, scatter plots, or bar plots, to visualize different aspects of the data."
   ]
  },
  {
   "cell_type": "code",
   "execution_count": 22,
   "metadata": {},
   "outputs": [
    {
     "data": {
      "image/png": "[encoded data removed]",
      "text/plain": [
       "<Figure size 720x360 with 1 Axes>"
      ]
     },
     "metadata": {
      "needs_background": "light"
     },
     "output_type": "display_data"
    }
   ],
   "source": [
    "data_clean.Quantity.value_counts().nlargest(15).plot(kind='bar',figsize=(10,5))\n",
    "plt.title(\"Top 15 of Purchase \")\n",
    "plt.xlabel(\"Purchase Type\")\n",
    "plt.ylabel(\"Quantity\")\n",
    "plt.show()"
   ]
  },
  {
   "cell_type": "code",
   "execution_count": 23,
   "metadata": {},
   "outputs": [
    {
     "data": {
      "image/png": "[encoded data removed]",
      "text/plain": [
       "<Figure size 720x360 with 1 Axes>"
      ]
     },
     "metadata": {
      "needs_background": "light"
     },
     "output_type": "display_data"
    }
   ],
   "source": [
    "data_clean.UnitPrice.value_counts().nlargest(15).plot(kind='bar',figsize=(10,5))\n",
    "plt.title(\"Top 15 of UnitPrice \")\n",
    "plt.xlabel(\"Unity Price\")\n",
    "plt.ylabel(\"Total number\")\n",
    "plt.show()"
   ]
  },
  {
   "cell_type": "markdown",
   "metadata": {},
   "source": [
    "By the way these graphs confirm the mode calculated before !"
   ]
  },
  {
   "cell_type": "markdown",
   "metadata": {},
   "source": [
    "## 5. Analyze the sales trends over time. Identify the busiest months and days of the week in terms of sales."
   ]
  },
  {
   "cell_type": "code",
   "execution_count": 24,
   "metadata": {},
   "outputs": [],
   "source": [
    "data_clean['InvoiceDate'] = pd.to_datetime(data_clean['InvoiceDate']) # Important"
   ]
  },
  {
   "cell_type": "code",
   "execution_count": 25,
   "metadata": {},
   "outputs": [],
   "source": [
    "# Month extraction\n",
    "data_clean[\"Month\"] = data_clean.InvoiceDate.dt.month"
   ]
  },
  {
   "cell_type": "code",
   "execution_count": 26,
   "metadata": {},
   "outputs": [],
   "source": [
    "# Day of the week extraction\n",
    "data_clean[\"Day of the week\"] = data_clean.InvoiceDate.dt.dayofweek"
   ]
  },
  {
   "cell_type": "code",
   "execution_count": 27,
   "metadata": {},
   "outputs": [
    {
     "data": {
      "text/plain": [
       "Index(['InvoiceNo', 'StockCode', 'Description', 'Quantity', 'InvoiceDate',\n",
       "       'UnitPrice', 'CustomerID', 'Country', 'Month', 'Day of the week'],\n",
       "      dtype='object')"
      ]
     },
     "execution_count": 27,
     "metadata": {},
     "output_type": "execute_result"
    }
   ],
   "source": [
    "data_clean.columns"
   ]
  },
  {
   "cell_type": "code",
   "execution_count": 28,
   "metadata": {},
   "outputs": [],
   "source": [
    "# total sales of month\n",
    "Monthly_Sales = data_clean.groupby('Month')[\"UnitPrice\"].sum().reset_index()"
   ]
  },
  {
   "cell_type": "code",
   "execution_count": 29,
   "metadata": {},
   "outputs": [],
   "source": [
    "#Daily sales\n",
    "Daily_Sales = data_clean.groupby(\"Day of the week\")[\"UnitPrice\"].sum().reset_index()"
   ]
  },
  {
   "cell_type": "code",
   "execution_count": 30,
   "metadata": {},
   "outputs": [
    {
     "data": {
      "image/png": "[encoded data removed]",
      "text/plain": [
       "<Figure size 720x360 with 1 Axes>"
      ]
     },
     "metadata": {
      "needs_background": "light"
     },
     "output_type": "display_data"
    }
   ],
   "source": [
    "plt.figure(figsize=(10,5))\n",
    "plt.plot(Monthly_Sales[\"Month\"].to_numpy(), Monthly_Sales[\"UnitPrice\"].to_numpy(), marker=\"o\",c =\"red\")\n",
    "plt.bar(Monthly_Sales[\"Month\"].to_numpy(), Monthly_Sales[\"UnitPrice\"].to_numpy())\n",
    "plt.title(\"Sales trends by month\")\n",
    "plt.xlabel(\"Month\")\n",
    "plt.ylabel(\"Total Sales\")\n",
    "plt.xticks(range(1,13))\n",
    "plt.grid()\n",
    "plt.show()"
   ]
  },
  {
   "cell_type": "code",
   "execution_count": 31,
   "metadata": {},
   "outputs": [],
   "source": [
    "days = {0 : \"monday\",1: \"tuesday\",2:\"wednesday\", 3:\"thursday\", 4:\"friday\",5:\"saturday\",6:\"sunday\"}\n",
    "Daily_Sales['Day of the week'] = Daily_Sales['Day of the week'].map(days) # Renaming"
   ]
  },
  {
   "cell_type": "code",
   "execution_count": 32,
   "metadata": {},
   "outputs": [
    {
     "data": {
      "image/png": "[encoded data removed]",
      "text/plain": [
       "<Figure size 720x360 with 1 Axes>"
      ]
     },
     "metadata": {
      "needs_background": "light"
     },
     "output_type": "display_data"
    }
   ],
   "source": [
    "# Trends by day of week\n",
    "plt.figure(figsize=(10,5))\n",
    "plt.plot(Daily_Sales['Day of the week'].to_numpy(), Daily_Sales[\"UnitPrice\"].to_numpy(), marker=\"o\", c = \"red\")\n",
    "plt.bar(Daily_Sales['Day of the week'].to_numpy(), Daily_Sales[\"UnitPrice\"].to_numpy())\n",
    "plt.title(\"Sales trends by day\")\n",
    "plt.xlabel(\"day\")\n",
    "plt.ylabel(\"Total Sales\")\n",
    "plt.grid()\n",
    "plt.show()"
   ]
  },
  {
   "cell_type": "markdown",
   "metadata": {},
   "source": [
    "## 6. Explore the top-selling products and countries based on the quantity sold.\n"
   ]
  },
  {
   "cell_type": "code",
   "execution_count": 33,
   "metadata": {},
   "outputs": [
    {
     "data": {
      "text/plain": [
       "Index(['InvoiceNo', 'StockCode', 'Description', 'Quantity', 'InvoiceDate',\n",
       "       'UnitPrice', 'CustomerID', 'Country', 'Month', 'Day of the week'],\n",
       "      dtype='object')"
      ]
     },
     "execution_count": 33,
     "metadata": {},
     "output_type": "execute_result"
    }
   ],
   "source": [
    "data_clean.columns"
   ]
  },
  {
   "cell_type": "code",
   "execution_count": 34,
   "metadata": {},
   "outputs": [],
   "source": [
    "product_sales = data_clean.groupby('Country')[\"UnitPrice\"].sum().reset_index().sort_values(ascending=False,by = \"UnitPrice\")\n",
    "\n",
    "quantity_sales = data_clean.groupby('Country')[\"Quantity\"].sum().reset_index().sort_values(ascending=False,by = \"Quantity\")\n"
   ]
  },
  {
   "cell_type": "code",
   "execution_count": 35,
   "metadata": {},
   "outputs": [
    {
     "data": {
      "image/png": "[encoded data removed]",
      "text/plain": [
       "<Figure size 864x360 with 1 Axes>"
      ]
     },
     "metadata": {
      "needs_background": "light"
     },
     "output_type": "display_data"
    },
    {
     "data": {
      "image/png": "[encoded data removed]",
      "text/plain": [
       "<Figure size 864x360 with 1 Axes>"
      ]
     },
     "metadata": {
      "needs_background": "light"
     },
     "output_type": "display_data"
    }
   ],
   "source": [
    "# \n",
    "plt.figure(figsize=(12,5))\n",
    "plt.bar(product_sales['Country'].to_numpy(),product_sales[\"UnitPrice\"].to_numpy())\n",
    "plt.title(\"Top Sales product by Country\")\n",
    "plt.xlabel(\"Country\")\n",
    "plt.xticks(rotation = 90 )\n",
    "plt.ylabel(\"Total Sales\")\n",
    "plt.grid(True)\n",
    "plt.show()\n",
    "\n",
    "\n",
    "# \n",
    "plt.figure(figsize=(12,5))\n",
    "plt.bar(quantity_sales['Country'].to_numpy(),quantity_sales[\"Quantity\"].to_numpy())\n",
    "plt.title(\"Top Selling country\")\n",
    "plt.xlabel(\"Country\")\n",
    "plt.xticks(rotation = 90 )\n",
    "plt.ylabel(\"total Quantity sold\")\n",
    "plt.grid(True)\n",
    "plt.show()"
   ]
  },
  {
   "cell_type": "code",
   "execution_count": 36,
   "metadata": {},
   "outputs": [
    {
     "name": "stdout",
     "output_type": "stream",
     "text": [
      "Top Sales \n",
      "\n",
      "                 Country    UnitPrice\n",
      "35        United Kingdom  1037945.864\n",
      "13                France    36788.980\n",
      "14               Germany    33499.580\n",
      "10                  EIRE    32134.960\n",
      "29             Singapore    12949.990\n",
      "30                 Spain     9492.390\n",
      "26              Portugal     8636.430\n",
      "3                Belgium     7372.850\n",
      "32           Switzerland     6389.270\n",
      "23           Netherlands     6247.730\n",
      "24                Norway     5662.470\n",
      "12               Finland     3628.440\n",
      "0              Australia     3605.750\n",
      "18                 Italy     3576.210\n",
      "7                 Cyprus     3466.150\n",
      "6        Channel Islands     3388.000\n",
      "1                Austria     1693.900\n",
      "31                Sweden     1693.690\n",
      "25                Poland     1377.210\n",
      "9                Denmark     1195.550\n",
      "5                 Canada      910.580\n",
      "17                Israel      898.590\n",
      "36           Unspecified      775.950\n",
      "15                Greece      663.290\n",
      "19                 Japan      657.210\n",
      "22                 Malta      545.190\n",
      "16               Iceland      481.210\n",
      "33                   USA      413.300\n",
      "11    European Community      289.800\n",
      "27                   RSA      248.100\n",
      "20               Lebanon      242.440\n",
      "34  United Arab Emirates      229.890\n",
      "4                 Brazil      142.600\n",
      "21             Lithuania       99.440\n",
      "2                Bahrain       78.950\n",
      "8         Czech Republic       78.270\n",
      "28          Saudi Arabia       21.160 \n",
      "\n"
     ]
    }
   ],
   "source": [
    "print(\"Top Sales \\n\")\n",
    "print(product_sales,\"\\n\")"
   ]
  },
  {
   "cell_type": "code",
   "execution_count": 37,
   "metadata": {},
   "outputs": [
    {
     "name": "stdout",
     "output_type": "stream",
     "text": [
      "Top selling county :\n",
      "                 Country  Quantity\n",
      "35        United Kingdom   4241305\n",
      "23           Netherlands    200361\n",
      "10                  EIRE    140133\n",
      "14               Germany    119154\n",
      "13                France    111428\n",
      "0              Australia     83891\n",
      "31                Sweden     36078\n",
      "32           Switzerland     30082\n",
      "30                 Spain     27933\n",
      "19                 Japan     26016\n",
      "3                Belgium     23237\n",
      "24                Norway     19336\n",
      "26              Portugal     16095\n",
      "12               Finland     10704\n",
      "6        Channel Islands      9485\n",
      "9                Denmark      8235\n",
      "18                 Italy      8112\n",
      "7                 Cyprus      6340\n",
      "29             Singapore      5241\n",
      "1                Austria      4881\n",
      "17                Israel      4043\n",
      "25                Poland      3684\n",
      "5                 Canada      2763\n",
      "16               Iceland      2458\n",
      "33                   USA      2458\n",
      "36           Unspecified      1785\n",
      "15                Greece      1557\n",
      "34  United Arab Emirates       982\n",
      "22                 Malta       970\n",
      "8         Czech Republic       671\n",
      "21             Lithuania       652\n",
      "11    European Community       499\n",
      "20               Lebanon       386\n",
      "4                 Brazil       356\n",
      "27                   RSA       351\n",
      "2                Bahrain       260\n",
      "28          Saudi Arabia        80\n"
     ]
    }
   ],
   "source": [
    "print(\"Top selling county :\")\n",
    "print(quantity_sales)"
   ]
  },
  {
   "cell_type": "markdown",
   "metadata": {},
   "source": [
    "## 7. Identify any outliers or anomalies in the dataset and discuss their potential impact on the analysis."
   ]
  },
  {
   "cell_type": "code",
   "execution_count": 38,
   "metadata": {},
   "outputs": [
    {
     "name": "stdout",
     "output_type": "stream",
     "text": [
      "Outliers dans Quantity : 25647 observations\n",
      "Outliers dans UnitPrice : 34356 observations\n"
     ]
    },
    {
     "data": {
      "image/png": "[encoded data removed]",
      "text/plain": [
       "<Figure size 864x360 with 2 Axes>"
      ]
     },
     "metadata": {
      "needs_background": "light"
     },
     "output_type": "display_data"
    },
    {
     "name": "stdout",
     "output_type": "stream",
     "text": [
      "\n",
      "Les valeurs extrêmes sur Quantity et UnitPrice peuvent correspondre à :\n",
      "- des erreurs de saisie (prix = 0 ou quantité très élevée),\n",
      "- des ventes exceptionnelles (grosses commandes),\n",
      "- des produits très chers ou en gros volume.\n",
      "\n",
      "Impact : \n",
      "Ces outliers peuvent fausser la moyenne, les graphiques et les modèles prédictifs.\n",
      "Il est préférable de les analyser individuellement ou d’utiliser des métriques robustes (médiane, IQR).\n",
      "\n"
     ]
    }
   ],
   "source": [
    "import pandas as pd\n",
    "import numpy as np\n",
    "import matplotlib.pyplot as plt\n",
    "import seaborn as sns\n",
    "\n",
    "# Lecture du fichier\n",
    "df = pd.read_excel(\"Online Retail.xlsx\")\n",
    "\n",
    "# Nettoyage de base\n",
    "df = df.dropna(subset=[\"CustomerID\"])  # suppression des lignes sans client\n",
    "df = df[df[\"Quantity\"] > 0]            # suppression des quantités négatives (retours)\n",
    "df = df[df[\"UnitPrice\"] > 0]           # suppression des prix unitaires nuls ou négatifs\n",
    "\n",
    "# Détection des outliers avec l'IQR\n",
    "def detect_outliers_IQR(data, column):\n",
    "    Q1 = data[column].quantile(0.25)\n",
    "    Q3 = data[column].quantile(0.75)\n",
    "    IQR = Q3 - Q1\n",
    "    lower = Q1 - 1.5 * IQR\n",
    "    upper = Q3 + 1.5 * IQR\n",
    "    return data[(data[column] < lower) | (data[column] > upper)]\n",
    "\n",
    "outliers_qty = detect_outliers_IQR(df, \"Quantity\")\n",
    "outliers_price = detect_outliers_IQR(df, \"UnitPrice\")\n",
    "\n",
    "print(f\"Outliers dans Quantity : {len(outliers_qty)} observations\")\n",
    "print(f\"Outliers dans UnitPrice : {len(outliers_price)} observations\")\n",
    "\n",
    "# Visualisation\n",
    "plt.figure(figsize=(12,5))\n",
    "plt.subplot(1,2,1)\n",
    "sns.boxplot(x=df[\"Quantity\"])\n",
    "plt.title(\"Outliers sur Quantity\")\n",
    "\n",
    "plt.subplot(1,2,2)\n",
    "sns.boxplot(x=df[\"UnitPrice\"])\n",
    "plt.title(\"Outliers sur UnitPrice\")\n",
    "plt.show()\n",
    "\n",
    "# Impact potentiel ---\n",
    "print(\"\"\"\n",
    "Les valeurs extrêmes sur Quantity et UnitPrice peuvent correspondre à :\n",
    "- des erreurs de saisie (prix = 0 ou quantité très élevée),\n",
    "- des ventes exceptionnelles (grosses commandes),\n",
    "- des produits très chers ou en gros volume.\n",
    "\n",
    "Impact : \n",
    "Ces outliers peuvent fausser la moyenne, les graphiques et les modèles prédictifs.\n",
    "Il est préférable de les analyser individuellement ou d’utiliser des métriques robustes (médiane, IQR).\n",
    "\"\"\")\n"
   ]
  },
  {
   "cell_type": "markdown",
   "metadata": {},
   "source": [
    "## 8. Draw conclusions and summarize your findings from the exploratory data analysis."
   ]
  },
  {
   "cell_type": "code",
   "execution_count": 39,
   "metadata": {},
   "outputs": [
    {
     "name": "stdout",
     "output_type": "stream",
     "text": [
      "Nombre total de transactions : 18532\n",
      "Nombre total de clients : 4338\n",
      "Chiffre d'affaires total : 8911407.9\n",
      "\n",
      "Top 5 des pays en chiffre d'affaires :\n",
      " Country\n",
      "United Kingdom    7308391.554\n",
      "Netherlands        285446.340\n",
      "EIRE               265545.900\n",
      "Germany            228867.140\n",
      "France             209024.050\n",
      "Name: TotalPrice, dtype: float64\n"
     ]
    },
    {
     "data": {
      "image/png": "[encoded data removed]",
      "text/plain": [
       "<Figure size 864x360 with 1 Axes>"
      ]
     },
     "metadata": {
      "needs_background": "light"
     },
     "output_type": "display_data"
    },
    {
     "name": "stdout",
     "output_type": "stream",
     "text": [
      "\n",
      "**Conclusions générales :**\n",
      "- Le dataset couvre les ventes en ligne d'une entreprise britannique (2010–2011).\n",
      "- La majorité des ventes proviennent du Royaume-Uni.\n",
      "- Quelques clients passent des commandes très importantes (outliers).\n",
      "- La saisonnalité montre des pics autour des périodes de Noël.\n",
      "- Des anomalies existent (prix unitaires = 0 ou quantités négatives), qu’il faut nettoyer avant analyse.\n",
      "\n",
      "En résumé, le dataset est exploitable après nettoyage, et les analyses doivent tenir compte des valeurs extrêmes.\n",
      "\n"
     ]
    }
   ],
   "source": [
    "# Création d'une variable du chiffre d'affaires\n",
    "df[\"TotalPrice\"] = df[\"Quantity\"] * df[\"UnitPrice\"]\n",
    "\n",
    "# Synthèse générale\n",
    "print(\"Nombre total de transactions :\", df[\"InvoiceNo\"].nunique())\n",
    "print(\"Nombre total de clients :\", df[\"CustomerID\"].nunique())\n",
    "print(\"Chiffre d'affaires total :\", round(df[\"TotalPrice\"].sum(), 2))\n",
    "\n",
    "# Top 5 des pays\n",
    "top_countries = df.groupby(\"Country\")[\"TotalPrice\"].sum().sort_values(ascending=False).head()\n",
    "print(\"\\nTop 5 des pays en chiffre d'affaires :\\n\", top_countries)\n",
    "\n",
    "# Analyse temporelle (année ou mois)\n",
    "df[\"InvoiceDate\"] = pd.to_datetime(df[\"InvoiceDate\"])\n",
    "df[\"Month\"] = df[\"InvoiceDate\"].dt.to_period(\"M\")\n",
    "sales_by_month = df.groupby(\"Month\")[\"TotalPrice\"].sum()\n",
    "\n",
    "# Visualisation\n",
    "plt.figure(figsize=(12,5))\n",
    "sales_by_month.plot(kind=\"line\")\n",
    "plt.title(\"Évolution mensuelle du chiffre d'affaires\")\n",
    "plt.ylabel(\"CA mensuel\")\n",
    "plt.xlabel(\"Mois\")\n",
    "plt.show()\n",
    "\n",
    "print(\"\"\"\n",
    "**Conclusions générales :**\n",
    "- Le dataset couvre les ventes en ligne d'une entreprise britannique (2010–2011).\n",
    "- La majorité des ventes proviennent du Royaume-Uni.\n",
    "- Quelques clients passent des commandes très importantes (outliers).\n",
    "- La saisonnalité montre des pics autour des périodes de Noël.\n",
    "- Des anomalies existent (prix unitaires = 0 ou quantités négatives), qu’il faut nettoyer avant analyse.\n",
    "\n",
    "En résumé, le dataset est exploitable après nettoyage, et les analyses doivent tenir compte des valeurs extrêmes.\n",
    "\"\"\")\n"
   ]
  },
  {
   "cell_type": "markdown",
   "metadata": {},
   "source": [
    "The exploratory data analysis of the Online Retail dataset revealed a strong concentration of sales in the United Kingdom and a clear seasonality pattern around the end-of-year holidays. After cleaning missing and abnormal values, the data showed the presence of outliers related to exceptional orders or data entry errors. Although relatively rare, these anomalies can influence overall statistics and should be handled carefully. Overall, the dataset is reliable and provides a solid foundation for predictive modeling and customer segmentation analyses."
   ]
  }
 ],
 "metadata": {
  "kernelspec": {
   "display_name": "Python 3",
   "language": "python",
   "name": "python3"
  },
  "language_info": {
   "codemirror_mode": {
    "name": "ipython",
    "version": 3
   },
   "file_extension": ".py",
   "mimetype": "text/x-python",
   "name": "python",
   "nbconvert_exporter": "python",
   "pygments_lexer": "ipython3",
   "version": "3.10.11"
  }
 },
 "nbformat": 4,
 "nbformat_minor": 4
}
